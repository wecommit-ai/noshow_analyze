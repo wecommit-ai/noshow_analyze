{
 "cells": [
  {
   "cell_type": "markdown",
   "metadata": {},
   "source": [
    "# 목차\n",
    "    1. [라이브러리 불러오기](#라이브러리-불러오기)\n",
    "    2. [파일 불러오기 & API 키 받아오기](#파일--api-키-받아오기)\n",
    "    3. [gpt 필드 전처리](#gpt)\n",
    "    4. [gpt 필드 정리 & 저장](#생성-필드-합치고-저장하기)"
   ]
  },
  {
   "cell_type": "markdown",
   "metadata": {},
   "source": [
    "# 라이브러리 불러오기"
   ]
  },
  {
   "cell_type": "code",
   "execution_count": 2,
   "metadata": {},
   "outputs": [],
   "source": [
    "import pandas as pd\n",
    "import numpy as np\n",
    "import matplotlib.pyplot as plt\n",
    "import openai\n",
    "import json\n",
    "import os\n",
    "from concurrent.futures import ThreadPoolExecutor, as_completed\n",
    "from tqdm import tqdm\n",
    "from pydantic import BaseModel\n",
    "from typing import List, Optional"
   ]
  },
  {
   "cell_type": "markdown",
   "metadata": {},
   "source": [
    "# 파일 & API 키 받아오기"
   ]
  },
  {
   "cell_type": "code",
   "execution_count": 3,
   "metadata": {},
   "outputs": [],
   "source": [
    "current_directory = os.getcwd()\n",
    "data_directory = os.path.join(current_directory, '..', 'preprocessing')\n",
    "data_file_path = os.path.join(data_directory, '전처리_호텔_results_20241010_113155.pickle')\n",
    "df = pd.read_pickle(data_file_path)"
   ]
  },
  {
   "cell_type": "code",
   "execution_count": 4,
   "metadata": {},
   "outputs": [],
   "source": [
    "# 환경변수에서 'OPENAPI_KEY' 값을 받아옴\n",
    "# openapi_key = os.getenv('OPEN_API_KEY')"
   ]
  },
  {
   "cell_type": "markdown",
   "metadata": {},
   "source": [
    "# GPT"
   ]
  },
  {
   "cell_type": "code",
   "execution_count": 5,
   "metadata": {},
   "outputs": [],
   "source": [
    "df['description_1'] = '제목 : ' + df['title'].astype(str) + ', 상품 게시 시간 : ' + df['post_time'].astype(str) + ', 상세 설명 : ' + df['description'].astype(str)"
   ]
  },
  {
   "cell_type": "code",
   "execution_count": 6,
   "metadata": {},
   "outputs": [],
   "source": [
    "# Pydantic을 사용해 응답 데이터를 구조화할 모델을 정의합니다.\n",
    "class Fields(BaseModel):\n",
    "    expiration_stdate: Optional[str]\n",
    "    expiration_endate: Optional[str]\n",
    "    room_type: Optional[str]\n",
    "    head_count: Optional[int]\n",
    "    shipping_fee: Optional[int]\n",
    "    transaction_method: Optional[str]\n",
    "    market_price: Optional[int]\n",
    "    options: Optional[str]\n",
    "    parking: Optional[bool]\n",
    "    check_in_time: Optional[str]\n",
    "    check_out_time: Optional[str]\n",
    "    stay_type: Optional[str]\n",
    "    foreign_yn: Optional[str]\n",
    "    event: Optional[str]\n",
    "    advertise : Optional[bool]\n",
    "\n",
    "# 함수를 정의하여 데이터를 요청하고 응답을 처리합니다.\n",
    "def extract_fields(description):\n",
    "    prompt = {\n",
    "        \"role\": \"system\", \n",
    "        \"content\": \"\"\"\n",
    "        너는 데이터 필드를 추출해주는 도우미야. 데이터를 받아서 필요한 필드를 15개로 제한해 JSON 형식으로 응답할거야. \n",
    "        설명에서 필요한 15개의 필드를 정확히 추출하고 나머지 필드들은 무시해줘. 필드는 오직 15개만 있어야 하고, 추가적인 세부 필드를 포함해서는 안 돼.\n",
    "        NaN이나 정보가 없으면 해당 필드를 null로 설정해줘.\n",
    "        필드는 아래 15개:\n",
    "        1. expiration_stdate (해당 상품의 사용기한 중 시작 날짜 YYYY-MM-DD 형식)\n",
    "        2. expiration_endate (해당 상품의 사용기한 중 마감 날짜 YYYY-MM-DD 형식)\n",
    "        3. room_type (객실 유형)\n",
    "        4. head_count (사용 인원수, int로만 알려줘)\n",
    "        5. shipping_fee (배송비, 없으면 0)\n",
    "        6. transaction_method (직거래/택배거래 여부)\n",
    "        7. market_price (시중 가격, int로만 알려줘)\n",
    "        8. options (호텔 옵션들 항목들을 콤마로 구분)\n",
    "        9. parking (주차 가능 여부, True/False)\n",
    "        10. check_in_time (체크인 시간,형식 : HH:MM)\n",
    "        11. check_out_time (체크아웃 시간, 형식 : HH:MM)\n",
    "        12. stay_type (숙소 형태, 카테고리는 호텔, 모텔, 리조트, 풀빌라, 펜션, 카테고리 이외는 모두 기타로 분류)\n",
    "        13. foreign_yn (국내 숙소인지 외국 숙소인지 알려줘, 국내/외국)\n",
    "        14. event (축제/콘서트 등 관련 이벤트가 포함되어있으면 축제,콘서트 이름을 써줘)\n",
    "        15. advertise (광고글 여부,숙박 시설을 판매 및 양도하는 경우는 광고글이 아니야. 대리 구매나 숙박이 아닌 다른 걸 판매하는게 광고글이야, True/False)\"\"\"\n",
    "    }\n",
    "\n",
    "    query = {\n",
    "        \"role\": \"user\",\n",
    "        \"content\": f\"\"\"\n",
    "        설명에서 필요한 15개의 필드를 추출하고 JSON 형식으로 반환해줘. 단, 필드는 15개 고정이야.\n",
    "        \n",
    "        설명: {description}\n",
    "        \"\"\"\n",
    "    }\n",
    "\n",
    "    try:\n",
    "        response = openai.ChatCompletion.create(\n",
    "            model=\"gpt-3.5-turbo\",  # 또는 \"gpt-4\" 사용 가능\n",
    "            messages=[prompt, query],\n",
    "            temperature=0,\n",
    "            max_tokens=1000\n",
    "        )\n",
    "\n",
    "        # 응답을 받아 JSON으로 변환\n",
    "        result = response['choices'][0]['message']['content']\n",
    "        result = result.strip()  # 공백 제거\n",
    "\n",
    "        # json으로 시작되는 쓸데없는 부분을 제거\n",
    "        if result.startswith(\"```json\"):\n",
    "            result = result.replace(\"```json\", \"\").strip()\n",
    "        if result.endswith(\"```\"):\n",
    "            result = result.replace(\"```\", \"\").strip()\n",
    "\n",
    "        # Pydantic을 사용해 응답을 구조화된 데이터로 변환\n",
    "        parsed_data = Fields.parse_raw(result)\n",
    "        return parsed_data.dict()  # 딕셔너리로 반환\n",
    "\n",
    "    except Exception as e:\n",
    "        print(\"응답 파싱 중 오류 발생:\", e)\n",
    "        return {field: np.nan for field in Fields.__fields__}  # NaN 값으로 채운 딕셔너리 반환"
   ]
  },
  {
   "cell_type": "code",
   "execution_count": 7,
   "metadata": {},
   "outputs": [
    {
     "name": "stderr",
     "output_type": "stream",
     "text": [
      "Processing descriptions:  54%|█████▍    | 1039/1913 [09:13<06:49,  2.13it/s]"
     ]
    },
    {
     "name": "stdout",
     "output_type": "stream",
     "text": [
      "응답 파싱 중 오류 발생: 1 validation error for Fields\n",
      "market_price\n",
      "  Input should be a valid integer, unable to parse string as an integer [type=int_parsing, input_value='null', input_type=str]\n",
      "    For further information visit https://errors.pydantic.dev/2.9/v/int_parsing\n"
     ]
    },
    {
     "name": "stderr",
     "output_type": "stream",
     "text": [
      "Processing descriptions: 100%|██████████| 1913/1913 [16:22<00:00,  1.95it/s]\n"
     ]
    }
   ],
   "source": [
    "# 멀티쓰레딩\n",
    "def process_descriptions(descriptions):\n",
    "    results = []\n",
    "    with ThreadPoolExecutor(max_workers=4) as executor:\n",
    "        futures = [executor.submit(extract_fields, desc) for desc in descriptions]\n",
    "        \n",
    "        # tqdm으로 진행률 표시\n",
    "        for future in tqdm(as_completed(futures), total=len(futures), desc=\"Processing descriptions\"):\n",
    "            results.append(future.result())\n",
    "    \n",
    "    return results\n",
    "\n",
    "descriptions = df['description_1'].tolist()\n",
    "processed_data = process_descriptions(descriptions)"
   ]
  },
  {
   "cell_type": "markdown",
   "metadata": {},
   "source": [
    "# 생성 필드 합치고 저장하기"
   ]
  },
  {
   "cell_type": "code",
   "execution_count": null,
   "metadata": {},
   "outputs": [],
   "source": [
    "processed_data"
   ]
  },
  {
   "cell_type": "code",
   "execution_count": 9,
   "metadata": {},
   "outputs": [],
   "source": [
    "df1 = pd.DataFrame(processed_data)\n",
    "df1"
   ]
  },
  {
   "cell_type": "code",
   "execution_count": 13,
   "metadata": {},
   "outputs": [
    {
     "name": "stdout",
     "output_type": "stream",
     "text": [
      "<class 'pandas.core.frame.DataFrame'>\n",
      "RangeIndex: 1913 entries, 0 to 1912\n",
      "Data columns (total 41 columns):\n",
      " #   Column                Non-Null Count  Dtype         \n",
      "---  ------                --------------  -----         \n",
      " 0   platform              1913 non-null   object        \n",
      " 1   original_link         1913 non-null   object        \n",
      " 2   post_time             1913 non-null   datetime64[ns]\n",
      " 3   title                 1913 non-null   object        \n",
      " 4   view_count            1913 non-null   int64         \n",
      " 5   like_count            1913 non-null   int64         \n",
      " 6   price                 1913 non-null   int64         \n",
      " 7   images                1913 non-null   object        \n",
      " 8   description           1913 non-null   object        \n",
      " 9   category              1913 non-null   object        \n",
      " 10  status                1913 non-null   object        \n",
      " 11  seller_location       355 non-null    object        \n",
      " 12  expiration_date       0 non-null      float64       \n",
      " 13  market_price_x        0 non-null      float64       \n",
      " 14  capacity              0 non-null      float64       \n",
      " 15  parking_x             0 non-null      float64       \n",
      " 16  options_x             0 non-null      float64       \n",
      " 17  check_in_out_time     0 non-null      float64       \n",
      " 18  shipping_fee_x        0 non-null      float64       \n",
      " 19  transaction_location  0 non-null      float64       \n",
      " 20  transaction_method_x  0 non-null      float64       \n",
      " 21  city                  38 non-null     object        \n",
      " 22  city_goo              136 non-null    object        \n",
      " 23  city_dong             0 non-null      object        \n",
      " 24  citydong              342 non-null    object        \n",
      " 25  description_1         1913 non-null   object        \n",
      " 26  expiration_stdate     714 non-null    object        \n",
      " 27  expiration_endate     729 non-null    object        \n",
      " 28  room_type             1233 non-null   object        \n",
      " 29  head_count            575 non-null    float64       \n",
      " 30  shipping_fee_y        1912 non-null   float64       \n",
      " 31  transaction_method_y  1128 non-null   object        \n",
      " 32  market_price_y        539 non-null    float64       \n",
      " 33  options_y             890 non-null    object        \n",
      " 34  parking_y             1276 non-null   object        \n",
      " 35  check_in_time         272 non-null    object        \n",
      " 36  check_out_time        272 non-null    object        \n",
      " 37  stay_type             1911 non-null   object        \n",
      " 38  foreign_yn            1911 non-null   object        \n",
      " 39  event                 92 non-null     object        \n",
      " 40  advertise             1912 non-null   object        \n",
      "dtypes: datetime64[ns](1), float64(12), int64(3), object(25)\n",
      "memory usage: 612.9+ KB\n"
     ]
    }
   ],
   "source": [
    "# df와 df1을 열 기준으로 merge\n",
    "merged_df = pd.merge(df, df1, left_index=True, right_index=True)\n",
    "# 필요 없는 column 삭제\n",
    "merged_df = merged_df.drop(['expiration_date', 'market_price_x', 'capacity',\n",
    "       'parking_x', 'options_x', 'check_in_out_time', 'shipping_fee_x',\n",
    "       'transaction_location', 'transaction_method_x', 'city','city_dong'], axis=1)\n",
    "# column이름 재정의\n",
    "merged_df.columns = merged_df.columns.str.replace('_y', '')\n",
    "merged_df"
   ]
  },
  {
   "cell_type": "code",
   "execution_count": 19,
   "metadata": {},
   "outputs": [],
   "source": [
    "merged_df.to_csv('description_complete2.csv',encoding='utf-8-sig')"
   ]
  }
 ],
 "metadata": {
  "kernelspec": {
   "display_name": "base",
   "language": "python",
   "name": "python3"
  },
  "language_info": {
   "codemirror_mode": {
    "name": "ipython",
    "version": 3
   },
   "file_extension": ".py",
   "mimetype": "text/x-python",
   "name": "python",
   "nbconvert_exporter": "python",
   "pygments_lexer": "ipython3",
   "version": "3.9.12"
  }
 },
 "nbformat": 4,
 "nbformat_minor": 2
}
