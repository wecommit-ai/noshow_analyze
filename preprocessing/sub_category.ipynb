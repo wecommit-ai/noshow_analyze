{
 "cells": [
  {
   "cell_type": "markdown",
   "metadata": {},
   "source": [
    "# 목차  \n",
    "[1. 데이터/라이브러리 불러오기](#데이터라이브러리-불러오기)  \n",
    "[2. 숙소 형태 기준](#숙소-형태-기준-세부-카테고리-분류)  \n",
    "[3. 가격대 기준](#가격대-기준-세부-카테고리-분류)  \n",
    "[3-1. 데이터 분포 기반](#1-데이터-분포-기반)  \n",
    "[3-2. k-means 군집화 기반](#2-k-means-군집화-기반)  \n",
    "[4. 숙소+가격대 기준](#숙소--가격대-기준-세부카테고리-분류)  \n",
    "[5. 주관적인 기준](#주관적인-기준으로-분류)  "
   ]
  },
  {
   "cell_type": "markdown",
   "metadata": {},
   "source": [
    "## 데이터/라이브러리 불러오기"
   ]
  },
  {
   "cell_type": "code",
   "execution_count": 56,
   "metadata": {},
   "outputs": [],
   "source": [
    "# 라이브러리 불러오기기\n",
    "import pandas as pd\n",
    "import matplotlib.pyplot as plt\n",
    "import openai\n",
    "import json\n",
    "import os\n",
    "from dotenv import load_dotenv"
   ]
  },
  {
   "cell_type": "code",
   "execution_count": 3,
   "metadata": {},
   "outputs": [],
   "source": [
    "current_directory = os.getcwd()\n",
    "data_directory = os.path.join(current_directory, '..', 'data')\n",
    "data_file_path = os.path.join(data_directory, 'filter_df.pickle')\n",
    "df = pd.read_pickle(data_file_path)"
   ]
  },
  {
   "cell_type": "code",
   "execution_count": 41,
   "metadata": {},
   "outputs": [],
   "source": [
    "df = df[~df['title'].str.contains('임대|야놀자|입장권|상품권|포인트|야놀|주차권|쿠폰|구매|비행기|종일권|자유이용권', na=False)]\n",
    "df.reset_index(drop=True, inplace=True)"
   ]
  },
  {
   "cell_type": "markdown",
   "metadata": {},
   "source": [
    "## 숙소 형태 기준 세부 카테고리 분류"
   ]
  },
  {
   "cell_type": "markdown",
   "metadata": {},
   "source": [
    "일단은 title 키워드 기반으로 나눈거라 부정확할수도 있음"
   ]
  },
  {
   "cell_type": "code",
   "execution_count": 42,
   "metadata": {},
   "outputs": [],
   "source": [
    "df['stay_type'] = \"기타\"\n",
    "df.loc[df['title'].str.contains('호텔', na=False), 'stay_type'] = '호텔'\n",
    "df.loc[df['title'].str.contains('노보텔', na=False), 'stay_type'] = '호텔'\n",
    "df.loc[df['title'].str.contains('모텔', na=False), 'stay_type'] = '모텔'\n",
    "df.loc[df['title'].str.contains('리조트', na=False), 'stay_type'] = '리조트'\n",
    "df.loc[df['title'].str.contains('펜션', na=False), 'stay_type'] = '펜션'\n",
    "df.loc[df['title'].str.contains('풀빌라', na=False), 'stay_type'] = '풀빌라'"
   ]
  },
  {
   "cell_type": "code",
   "execution_count": 76,
   "metadata": {},
   "outputs": [
    {
     "data": {
      "text/plain": [
       "stay_type\n",
       "호텔     302\n",
       "기타     148\n",
       "리조트     27\n",
       "펜션       6\n",
       "모텔       4\n",
       "풀빌라      4\n",
       "Name: count, dtype: int64"
      ]
     },
     "execution_count": 76,
     "metadata": {},
     "output_type": "execute_result"
    }
   ],
   "source": [
    "df['stay_type'].value_counts()"
   ]
  },
  {
   "cell_type": "markdown",
   "metadata": {},
   "source": [
    "## 가격대 기준 세부 카테고리 분류"
   ]
  },
  {
   "cell_type": "markdown",
   "metadata": {},
   "source": [
    "### 1. 데이터 분포 기반"
   ]
  },
  {
   "cell_type": "code",
   "execution_count": 5,
   "metadata": {},
   "outputs": [],
   "source": [
    "df['price_category(quantile)'] = pd.qcut(df['price'], 4, labels=['Low', 'Mid-Low', 'Mid-High', 'High'])"
   ]
  },
  {
   "cell_type": "code",
   "execution_count": 6,
   "metadata": {},
   "outputs": [
    {
     "data": {
      "text/plain": [
       "price_category(quantile)\n",
       "Low         139\n",
       "Mid-High    129\n",
       "High        118\n",
       "Mid-Low     116\n",
       "Name: count, dtype: int64"
      ]
     },
     "execution_count": 6,
     "metadata": {},
     "output_type": "execute_result"
    }
   ],
   "source": [
    "df['price_category(quantile)'].value_counts()"
   ]
  },
  {
   "cell_type": "code",
   "execution_count": 7,
   "metadata": {},
   "outputs": [
    {
     "name": "stderr",
     "output_type": "stream",
     "text": [
      "C:\\Users\\gmldu\\AppData\\Local\\Temp\\ipykernel_32032\\2657837685.py:1: FutureWarning: The default of observed=False is deprecated and will be changed to True in a future version of pandas. Pass observed=False to retain current behavior or observed=True to adopt the future default and silence this warning.\n",
      "  df.groupby('price_category(quantile)')['price'].describe()\n"
     ]
    },
    {
     "data": {
      "text/html": [
       "<div>\n",
       "<style scoped>\n",
       "    .dataframe tbody tr th:only-of-type {\n",
       "        vertical-align: middle;\n",
       "    }\n",
       "\n",
       "    .dataframe tbody tr th {\n",
       "        vertical-align: top;\n",
       "    }\n",
       "\n",
       "    .dataframe thead th {\n",
       "        text-align: right;\n",
       "    }\n",
       "</style>\n",
       "<table border=\"1\" class=\"dataframe\">\n",
       "  <thead>\n",
       "    <tr style=\"text-align: right;\">\n",
       "      <th></th>\n",
       "      <th>count</th>\n",
       "      <th>mean</th>\n",
       "      <th>std</th>\n",
       "      <th>min</th>\n",
       "      <th>25%</th>\n",
       "      <th>50%</th>\n",
       "      <th>75%</th>\n",
       "      <th>max</th>\n",
       "    </tr>\n",
       "    <tr>\n",
       "      <th>price_category(quantile)</th>\n",
       "      <th></th>\n",
       "      <th></th>\n",
       "      <th></th>\n",
       "      <th></th>\n",
       "      <th></th>\n",
       "      <th></th>\n",
       "      <th></th>\n",
       "      <th></th>\n",
       "    </tr>\n",
       "  </thead>\n",
       "  <tbody>\n",
       "    <tr>\n",
       "      <th>Low</th>\n",
       "      <td>139.0</td>\n",
       "      <td>56678.287770</td>\n",
       "      <td>25770.374626</td>\n",
       "      <td>20000.0</td>\n",
       "      <td>34500.0</td>\n",
       "      <td>55000.0</td>\n",
       "      <td>79500.0</td>\n",
       "      <td>100000.0</td>\n",
       "    </tr>\n",
       "    <tr>\n",
       "      <th>Mid-Low</th>\n",
       "      <td>116.0</td>\n",
       "      <td>162366.413793</td>\n",
       "      <td>31085.476384</td>\n",
       "      <td>110000.0</td>\n",
       "      <td>137500.0</td>\n",
       "      <td>160000.0</td>\n",
       "      <td>190000.0</td>\n",
       "      <td>210000.0</td>\n",
       "    </tr>\n",
       "    <tr>\n",
       "      <th>Mid-High</th>\n",
       "      <td>129.0</td>\n",
       "      <td>314573.023256</td>\n",
       "      <td>54667.258062</td>\n",
       "      <td>220000.0</td>\n",
       "      <td>260000.0</td>\n",
       "      <td>300000.0</td>\n",
       "      <td>360000.0</td>\n",
       "      <td>400000.0</td>\n",
       "    </tr>\n",
       "    <tr>\n",
       "      <th>High</th>\n",
       "      <td>118.0</td>\n",
       "      <td>717603.822034</td>\n",
       "      <td>283736.646421</td>\n",
       "      <td>409000.0</td>\n",
       "      <td>500000.0</td>\n",
       "      <td>600000.0</td>\n",
       "      <td>940000.0</td>\n",
       "      <td>2000000.0</td>\n",
       "    </tr>\n",
       "  </tbody>\n",
       "</table>\n",
       "</div>"
      ],
      "text/plain": [
       "                          count           mean            std       min  \\\n",
       "price_category(quantile)                                                  \n",
       "Low                       139.0   56678.287770   25770.374626   20000.0   \n",
       "Mid-Low                   116.0  162366.413793   31085.476384  110000.0   \n",
       "Mid-High                  129.0  314573.023256   54667.258062  220000.0   \n",
       "High                      118.0  717603.822034  283736.646421  409000.0   \n",
       "\n",
       "                               25%       50%       75%        max  \n",
       "price_category(quantile)                                           \n",
       "Low                        34500.0   55000.0   79500.0   100000.0  \n",
       "Mid-Low                   137500.0  160000.0  190000.0   210000.0  \n",
       "Mid-High                  260000.0  300000.0  360000.0   400000.0  \n",
       "High                      500000.0  600000.0  940000.0  2000000.0  "
      ]
     },
     "execution_count": 7,
     "metadata": {},
     "output_type": "execute_result"
    }
   ],
   "source": [
    "df.groupby('price_category(quantile)')['price'].describe()"
   ]
  },
  {
   "cell_type": "markdown",
   "metadata": {},
   "source": [
    "20000~100000, 110000 ~ 210000, 220000~400000, 409000+"
   ]
  },
  {
   "cell_type": "code",
   "execution_count": 80,
   "metadata": {},
   "outputs": [
    {
     "name": "stderr",
     "output_type": "stream",
     "text": [
      "C:\\Users\\gmldu\\AppData\\Local\\Temp\\ipykernel_32032\\4021536491.py:1: FutureWarning: The default of observed=False is deprecated and will be changed to True in a future version of pandas. Pass observed=False to retain current behavior or observed=True to adopt the future default and silence this warning.\n",
      "  df.groupby('price_category(quantile)')['stay_type'].value_counts()\n"
     ]
    },
    {
     "data": {
      "text/plain": [
       "price_category(quantile)  stay_type\n",
       "Low                       호텔           83\n",
       "                          기타           35\n",
       "                          펜션            4\n",
       "                          모텔            4\n",
       "                          리조트           2\n",
       "                          풀빌라           0\n",
       "Mid-Low                   호텔           57\n",
       "                          기타           42\n",
       "                          리조트          14\n",
       "                          풀빌라           3\n",
       "                          펜션            0\n",
       "                          모텔            0\n",
       "Mid-High                  호텔           85\n",
       "                          기타           36\n",
       "                          리조트           6\n",
       "                          펜션            2\n",
       "                          모텔            0\n",
       "                          풀빌라           0\n",
       "High                      호텔           77\n",
       "                          기타           35\n",
       "                          리조트           5\n",
       "                          풀빌라           1\n",
       "                          모텔            0\n",
       "                          펜션            0\n",
       "Name: count, dtype: int64"
      ]
     },
     "execution_count": 80,
     "metadata": {},
     "output_type": "execute_result"
    }
   ],
   "source": [
    "df.groupby('price_category(quantile)')['stay_type'].value_counts()"
   ]
  },
  {
   "cell_type": "markdown",
   "metadata": {},
   "source": [
    "### 2. k-means 군집화 기반"
   ]
  },
  {
   "cell_type": "code",
   "execution_count": 15,
   "metadata": {},
   "outputs": [
    {
     "name": "stderr",
     "output_type": "stream",
     "text": [
      "c:\\Users\\gmldu\\anaconda3\\lib\\site-packages\\sklearn\\cluster\\_kmeans.py:870: FutureWarning: The default value of `n_init` will change from 10 to 'auto' in 1.4. Set the value of `n_init` explicitly to suppress the warning\n",
      "  warnings.warn(\n",
      "c:\\Users\\gmldu\\anaconda3\\lib\\site-packages\\sklearn\\cluster\\_kmeans.py:1382: UserWarning: KMeans is known to have a memory leak on Windows with MKL, when there are less chunks than available threads. You can avoid it by setting the environment variable OMP_NUM_THREADS=2.\n",
      "  warnings.warn(\n",
      "c:\\Users\\gmldu\\anaconda3\\lib\\site-packages\\sklearn\\cluster\\_kmeans.py:870: FutureWarning: The default value of `n_init` will change from 10 to 'auto' in 1.4. Set the value of `n_init` explicitly to suppress the warning\n",
      "  warnings.warn(\n",
      "c:\\Users\\gmldu\\anaconda3\\lib\\site-packages\\sklearn\\cluster\\_kmeans.py:1382: UserWarning: KMeans is known to have a memory leak on Windows with MKL, when there are less chunks than available threads. You can avoid it by setting the environment variable OMP_NUM_THREADS=2.\n",
      "  warnings.warn(\n",
      "c:\\Users\\gmldu\\anaconda3\\lib\\site-packages\\sklearn\\cluster\\_kmeans.py:870: FutureWarning: The default value of `n_init` will change from 10 to 'auto' in 1.4. Set the value of `n_init` explicitly to suppress the warning\n",
      "  warnings.warn(\n",
      "c:\\Users\\gmldu\\anaconda3\\lib\\site-packages\\sklearn\\cluster\\_kmeans.py:1382: UserWarning: KMeans is known to have a memory leak on Windows with MKL, when there are less chunks than available threads. You can avoid it by setting the environment variable OMP_NUM_THREADS=2.\n",
      "  warnings.warn(\n",
      "c:\\Users\\gmldu\\anaconda3\\lib\\site-packages\\sklearn\\cluster\\_kmeans.py:870: FutureWarning: The default value of `n_init` will change from 10 to 'auto' in 1.4. Set the value of `n_init` explicitly to suppress the warning\n",
      "  warnings.warn(\n",
      "c:\\Users\\gmldu\\anaconda3\\lib\\site-packages\\sklearn\\cluster\\_kmeans.py:1382: UserWarning: KMeans is known to have a memory leak on Windows with MKL, when there are less chunks than available threads. You can avoid it by setting the environment variable OMP_NUM_THREADS=2.\n",
      "  warnings.warn(\n",
      "c:\\Users\\gmldu\\anaconda3\\lib\\site-packages\\sklearn\\cluster\\_kmeans.py:870: FutureWarning: The default value of `n_init` will change from 10 to 'auto' in 1.4. Set the value of `n_init` explicitly to suppress the warning\n",
      "  warnings.warn(\n",
      "c:\\Users\\gmldu\\anaconda3\\lib\\site-packages\\sklearn\\cluster\\_kmeans.py:1382: UserWarning: KMeans is known to have a memory leak on Windows with MKL, when there are less chunks than available threads. You can avoid it by setting the environment variable OMP_NUM_THREADS=2.\n",
      "  warnings.warn(\n",
      "c:\\Users\\gmldu\\anaconda3\\lib\\site-packages\\sklearn\\cluster\\_kmeans.py:870: FutureWarning: The default value of `n_init` will change from 10 to 'auto' in 1.4. Set the value of `n_init` explicitly to suppress the warning\n",
      "  warnings.warn(\n",
      "c:\\Users\\gmldu\\anaconda3\\lib\\site-packages\\sklearn\\cluster\\_kmeans.py:1382: UserWarning: KMeans is known to have a memory leak on Windows with MKL, when there are less chunks than available threads. You can avoid it by setting the environment variable OMP_NUM_THREADS=2.\n",
      "  warnings.warn(\n",
      "c:\\Users\\gmldu\\anaconda3\\lib\\site-packages\\sklearn\\cluster\\_kmeans.py:870: FutureWarning: The default value of `n_init` will change from 10 to 'auto' in 1.4. Set the value of `n_init` explicitly to suppress the warning\n",
      "  warnings.warn(\n",
      "c:\\Users\\gmldu\\anaconda3\\lib\\site-packages\\sklearn\\cluster\\_kmeans.py:1382: UserWarning: KMeans is known to have a memory leak on Windows with MKL, when there are less chunks than available threads. You can avoid it by setting the environment variable OMP_NUM_THREADS=2.\n",
      "  warnings.warn(\n",
      "c:\\Users\\gmldu\\anaconda3\\lib\\site-packages\\sklearn\\cluster\\_kmeans.py:870: FutureWarning: The default value of `n_init` will change from 10 to 'auto' in 1.4. Set the value of `n_init` explicitly to suppress the warning\n",
      "  warnings.warn(\n",
      "c:\\Users\\gmldu\\anaconda3\\lib\\site-packages\\sklearn\\cluster\\_kmeans.py:1382: UserWarning: KMeans is known to have a memory leak on Windows with MKL, when there are less chunks than available threads. You can avoid it by setting the environment variable OMP_NUM_THREADS=2.\n",
      "  warnings.warn(\n"
     ]
    },
    {
     "data": {
      "image/png": "[encoded data removed]",
      "text/plain": [
       "<Figure size 800x550 with 2 Axes>"
      ]
     },
     "metadata": {},
     "output_type": "display_data"
    },
    {
     "data": {
      "text/plain": [
       "<Axes: title={'center': 'Distortion Score Elbow for KMeans Clustering'}, xlabel='k', ylabel='distortion score'>"
      ]
     },
     "execution_count": 15,
     "metadata": {},
     "output_type": "execute_result"
    }
   ],
   "source": [
    "from yellowbrick.cluster import KElbowVisualizer\n",
    "from sklearn.cluster import KMeans\n",
    "\n",
    "model = KMeans(random_state=1004)\n",
    "visualizer = KElbowVisualizer(model, k=(2, 10))  # 2에서 10까지 군집 수를 테스트\n",
    "visualizer.fit(df['price'].values.reshape(-1, 1))  # 데이터에 맞춰 학습\n",
    "visualizer.show()  # 그래프 출력"
   ]
  },
  {
   "cell_type": "code",
   "execution_count": 16,
   "metadata": {},
   "outputs": [
    {
     "name": "stderr",
     "output_type": "stream",
     "text": [
      "c:\\Users\\gmldu\\anaconda3\\lib\\site-packages\\sklearn\\cluster\\_kmeans.py:870: FutureWarning: The default value of `n_init` will change from 10 to 'auto' in 1.4. Set the value of `n_init` explicitly to suppress the warning\n",
      "  warnings.warn(\n",
      "c:\\Users\\gmldu\\anaconda3\\lib\\site-packages\\sklearn\\cluster\\_kmeans.py:1382: UserWarning: KMeans is known to have a memory leak on Windows with MKL, when there are less chunks than available threads. You can avoid it by setting the environment variable OMP_NUM_THREADS=2.\n",
      "  warnings.warn(\n"
     ]
    }
   ],
   "source": [
    "# K-means 클러스터링\n",
    "kmeans = KMeans(n_clusters=4, random_state=1004)\n",
    "df['price_cluster'] = kmeans.fit_predict(df[['price']])"
   ]
  },
  {
   "cell_type": "code",
   "execution_count": 20,
   "metadata": {},
   "outputs": [
    {
     "data": {
      "text/html": [
       "<div>\n",
       "<style scoped>\n",
       "    .dataframe tbody tr th:only-of-type {\n",
       "        vertical-align: middle;\n",
       "    }\n",
       "\n",
       "    .dataframe tbody tr th {\n",
       "        vertical-align: top;\n",
       "    }\n",
       "\n",
       "    .dataframe thead th {\n",
       "        text-align: right;\n",
       "    }\n",
       "</style>\n",
       "<table border=\"1\" class=\"dataframe\">\n",
       "  <thead>\n",
       "    <tr style=\"text-align: right;\">\n",
       "      <th></th>\n",
       "      <th>count</th>\n",
       "      <th>mean</th>\n",
       "      <th>std</th>\n",
       "      <th>min</th>\n",
       "      <th>25%</th>\n",
       "      <th>50%</th>\n",
       "      <th>75%</th>\n",
       "      <th>max</th>\n",
       "    </tr>\n",
       "    <tr>\n",
       "      <th>price_cluster</th>\n",
       "      <th></th>\n",
       "      <th></th>\n",
       "      <th></th>\n",
       "      <th></th>\n",
       "      <th></th>\n",
       "      <th></th>\n",
       "      <th></th>\n",
       "      <th></th>\n",
       "    </tr>\n",
       "  </thead>\n",
       "  <tbody>\n",
       "    <tr>\n",
       "      <th>0</th>\n",
       "      <td>149.0</td>\n",
       "      <td>3.313350e+05</td>\n",
       "      <td>66723.791207</td>\n",
       "      <td>220000.0</td>\n",
       "      <td>270000.0</td>\n",
       "      <td>330000.0</td>\n",
       "      <td>390000.0</td>\n",
       "      <td>460000.0</td>\n",
       "    </tr>\n",
       "    <tr>\n",
       "      <th>1</th>\n",
       "      <td>37.0</td>\n",
       "      <td>1.072003e+06</td>\n",
       "      <td>211426.407258</td>\n",
       "      <td>900000.0</td>\n",
       "      <td>950000.0</td>\n",
       "      <td>1000000.0</td>\n",
       "      <td>1111111.0</td>\n",
       "      <td>2000000.0</td>\n",
       "    </tr>\n",
       "    <tr>\n",
       "      <th>2</th>\n",
       "      <td>255.0</td>\n",
       "      <td>1.047560e+05</td>\n",
       "      <td>59824.741979</td>\n",
       "      <td>20000.0</td>\n",
       "      <td>50000.0</td>\n",
       "      <td>100000.0</td>\n",
       "      <td>156100.0</td>\n",
       "      <td>210000.0</td>\n",
       "    </tr>\n",
       "    <tr>\n",
       "      <th>3</th>\n",
       "      <td>61.0</td>\n",
       "      <td>5.938382e+05</td>\n",
       "      <td>106043.753541</td>\n",
       "      <td>470000.0</td>\n",
       "      <td>500000.0</td>\n",
       "      <td>560000.0</td>\n",
       "      <td>650000.0</td>\n",
       "      <td>800000.0</td>\n",
       "    </tr>\n",
       "  </tbody>\n",
       "</table>\n",
       "</div>"
      ],
      "text/plain": [
       "               count          mean            std       min       25%  \\\n",
       "price_cluster                                                           \n",
       "0              149.0  3.313350e+05   66723.791207  220000.0  270000.0   \n",
       "1               37.0  1.072003e+06  211426.407258  900000.0  950000.0   \n",
       "2              255.0  1.047560e+05   59824.741979   20000.0   50000.0   \n",
       "3               61.0  5.938382e+05  106043.753541  470000.0  500000.0   \n",
       "\n",
       "                     50%        75%        max  \n",
       "price_cluster                                   \n",
       "0               330000.0   390000.0   460000.0  \n",
       "1              1000000.0  1111111.0  2000000.0  \n",
       "2               100000.0   156100.0   210000.0  \n",
       "3               560000.0   650000.0   800000.0  "
      ]
     },
     "execution_count": 20,
     "metadata": {},
     "output_type": "execute_result"
    }
   ],
   "source": [
    "df.groupby('price_cluster')['price'].describe()"
   ]
  },
  {
   "cell_type": "markdown",
   "metadata": {},
   "source": [
    "20000~210000, 220000~460000, 470000~800000, 900000+"
   ]
  },
  {
   "cell_type": "code",
   "execution_count": 47,
   "metadata": {},
   "outputs": [
    {
     "data": {
      "text/plain": [
       "price_cluster  stay_type\n",
       "0              호텔           100\n",
       "               기타            40\n",
       "               리조트            7\n",
       "               펜션             2\n",
       "1              호텔            19\n",
       "               기타            17\n",
       "               리조트            1\n",
       "2              호텔           140\n",
       "               기타            77\n",
       "               리조트           16\n",
       "               모텔             4\n",
       "               펜션             4\n",
       "               풀빌라            3\n",
       "3              호텔            43\n",
       "               기타            14\n",
       "               리조트            3\n",
       "               풀빌라            1\n",
       "Name: count, dtype: int64"
      ]
     },
     "execution_count": 47,
     "metadata": {},
     "output_type": "execute_result"
    }
   ],
   "source": [
    "df.groupby('price_cluster')['stay_type'].value_counts()"
   ]
  },
  {
   "cell_type": "markdown",
   "metadata": {},
   "source": [
    "## 숙소 + 가격대 기준 세부카테고리 분류"
   ]
  },
  {
   "cell_type": "code",
   "execution_count": 50,
   "metadata": {},
   "outputs": [
    {
     "name": "stderr",
     "output_type": "stream",
     "text": [
      "c:\\Users\\gmldu\\anaconda3\\lib\\site-packages\\sklearn\\cluster\\_kmeans.py:870: FutureWarning: The default value of `n_init` will change from 10 to 'auto' in 1.4. Set the value of `n_init` explicitly to suppress the warning\n",
      "  warnings.warn(\n",
      "c:\\Users\\gmldu\\anaconda3\\lib\\site-packages\\sklearn\\cluster\\_kmeans.py:1382: UserWarning: KMeans is known to have a memory leak on Windows with MKL, when there are less chunks than available threads. You can avoid it by setting the environment variable OMP_NUM_THREADS=2.\n",
      "  warnings.warn(\n",
      "c:\\Users\\gmldu\\anaconda3\\lib\\site-packages\\sklearn\\cluster\\_kmeans.py:870: FutureWarning: The default value of `n_init` will change from 10 to 'auto' in 1.4. Set the value of `n_init` explicitly to suppress the warning\n",
      "  warnings.warn(\n",
      "c:\\Users\\gmldu\\anaconda3\\lib\\site-packages\\sklearn\\cluster\\_kmeans.py:1382: UserWarning: KMeans is known to have a memory leak on Windows with MKL, when there are less chunks than available threads. You can avoid it by setting the environment variable OMP_NUM_THREADS=2.\n",
      "  warnings.warn(\n",
      "c:\\Users\\gmldu\\anaconda3\\lib\\site-packages\\sklearn\\cluster\\_kmeans.py:870: FutureWarning: The default value of `n_init` will change from 10 to 'auto' in 1.4. Set the value of `n_init` explicitly to suppress the warning\n",
      "  warnings.warn(\n",
      "c:\\Users\\gmldu\\anaconda3\\lib\\site-packages\\sklearn\\cluster\\_kmeans.py:1382: UserWarning: KMeans is known to have a memory leak on Windows with MKL, when there are less chunks than available threads. You can avoid it by setting the environment variable OMP_NUM_THREADS=2.\n",
      "  warnings.warn(\n",
      "c:\\Users\\gmldu\\anaconda3\\lib\\site-packages\\sklearn\\cluster\\_kmeans.py:870: FutureWarning: The default value of `n_init` will change from 10 to 'auto' in 1.4. Set the value of `n_init` explicitly to suppress the warning\n",
      "  warnings.warn(\n",
      "c:\\Users\\gmldu\\anaconda3\\lib\\site-packages\\sklearn\\cluster\\_kmeans.py:1382: UserWarning: KMeans is known to have a memory leak on Windows with MKL, when there are less chunks than available threads. You can avoid it by setting the environment variable OMP_NUM_THREADS=2.\n",
      "  warnings.warn(\n",
      "c:\\Users\\gmldu\\anaconda3\\lib\\site-packages\\sklearn\\cluster\\_kmeans.py:870: FutureWarning: The default value of `n_init` will change from 10 to 'auto' in 1.4. Set the value of `n_init` explicitly to suppress the warning\n",
      "  warnings.warn(\n",
      "c:\\Users\\gmldu\\anaconda3\\lib\\site-packages\\sklearn\\cluster\\_kmeans.py:1382: UserWarning: KMeans is known to have a memory leak on Windows with MKL, when there are less chunks than available threads. You can avoid it by setting the environment variable OMP_NUM_THREADS=2.\n",
      "  warnings.warn(\n",
      "c:\\Users\\gmldu\\anaconda3\\lib\\site-packages\\sklearn\\cluster\\_kmeans.py:870: FutureWarning: The default value of `n_init` will change from 10 to 'auto' in 1.4. Set the value of `n_init` explicitly to suppress the warning\n",
      "  warnings.warn(\n",
      "c:\\Users\\gmldu\\anaconda3\\lib\\site-packages\\sklearn\\cluster\\_kmeans.py:1382: UserWarning: KMeans is known to have a memory leak on Windows with MKL, when there are less chunks than available threads. You can avoid it by setting the environment variable OMP_NUM_THREADS=2.\n",
      "  warnings.warn(\n",
      "c:\\Users\\gmldu\\anaconda3\\lib\\site-packages\\sklearn\\cluster\\_kmeans.py:870: FutureWarning: The default value of `n_init` will change from 10 to 'auto' in 1.4. Set the value of `n_init` explicitly to suppress the warning\n",
      "  warnings.warn(\n",
      "c:\\Users\\gmldu\\anaconda3\\lib\\site-packages\\sklearn\\cluster\\_kmeans.py:1382: UserWarning: KMeans is known to have a memory leak on Windows with MKL, when there are less chunks than available threads. You can avoid it by setting the environment variable OMP_NUM_THREADS=2.\n",
      "  warnings.warn(\n",
      "c:\\Users\\gmldu\\anaconda3\\lib\\site-packages\\sklearn\\cluster\\_kmeans.py:870: FutureWarning: The default value of `n_init` will change from 10 to 'auto' in 1.4. Set the value of `n_init` explicitly to suppress the warning\n",
      "  warnings.warn(\n",
      "c:\\Users\\gmldu\\anaconda3\\lib\\site-packages\\sklearn\\cluster\\_kmeans.py:1382: UserWarning: KMeans is known to have a memory leak on Windows with MKL, when there are less chunks than available threads. You can avoid it by setting the environment variable OMP_NUM_THREADS=2.\n",
      "  warnings.warn(\n"
     ]
    },
    {
     "data": {
      "image/png": "[encoded data removed]",
      "text/plain": [
       "<Figure size 800x550 with 2 Axes>"
      ]
     },
     "metadata": {},
     "output_type": "display_data"
    },
    {
     "data": {
      "text/plain": [
       "<Axes: title={'center': 'Distortion Score Elbow for KMeans Clustering'}, xlabel='k', ylabel='distortion score'>"
      ]
     },
     "execution_count": 50,
     "metadata": {},
     "output_type": "execute_result"
    }
   ],
   "source": [
    "df_encoded = pd.get_dummies(df, columns=['stay_type'])\n",
    "\n",
    "model = KMeans(random_state=1004)\n",
    "visualizer = KElbowVisualizer(model, k=(2, 10))\n",
    "\n",
    "visualizer.fit(df_encoded[['price'] + list(df_encoded.columns[df_encoded.columns.str.startswith('stay_type_')])])\n",
    "visualizer.show()"
   ]
  },
  {
   "cell_type": "code",
   "execution_count": 51,
   "metadata": {},
   "outputs": [
    {
     "name": "stderr",
     "output_type": "stream",
     "text": [
      "c:\\Users\\gmldu\\anaconda3\\lib\\site-packages\\sklearn\\cluster\\_kmeans.py:870: FutureWarning: The default value of `n_init` will change from 10 to 'auto' in 1.4. Set the value of `n_init` explicitly to suppress the warning\n",
      "  warnings.warn(\n",
      "c:\\Users\\gmldu\\anaconda3\\lib\\site-packages\\sklearn\\cluster\\_kmeans.py:1382: UserWarning: KMeans is known to have a memory leak on Windows with MKL, when there are less chunks than available threads. You can avoid it by setting the environment variable OMP_NUM_THREADS=2.\n",
      "  warnings.warn(\n"
     ]
    }
   ],
   "source": [
    "# K-means 클러스터링\n",
    "kmeans = KMeans(n_clusters=4, random_state=1004)\n",
    "df['price_stay_cluster'] = kmeans.fit_predict(df_encoded[['price'] + list(df_encoded.columns[df_encoded.columns.str.startswith('stay_type_')])])"
   ]
  },
  {
   "cell_type": "code",
   "execution_count": 52,
   "metadata": {},
   "outputs": [
    {
     "data": {
      "text/plain": [
       "price_stay_cluster\n",
       "1    244\n",
       "2    149\n",
       "3     61\n",
       "0     37\n",
       "Name: count, dtype: int64"
      ]
     },
     "execution_count": 52,
     "metadata": {},
     "output_type": "execute_result"
    }
   ],
   "source": [
    "df['price_stay_cluster'].value_counts()"
   ]
  },
  {
   "cell_type": "code",
   "execution_count": 83,
   "metadata": {},
   "outputs": [
    {
     "data": {
      "text/html": [
       "<div>\n",
       "<style scoped>\n",
       "    .dataframe tbody tr th:only-of-type {\n",
       "        vertical-align: middle;\n",
       "    }\n",
       "\n",
       "    .dataframe tbody tr th {\n",
       "        vertical-align: top;\n",
       "    }\n",
       "\n",
       "    .dataframe thead th {\n",
       "        text-align: right;\n",
       "    }\n",
       "</style>\n",
       "<table border=\"1\" class=\"dataframe\">\n",
       "  <thead>\n",
       "    <tr style=\"text-align: right;\">\n",
       "      <th></th>\n",
       "      <th>count</th>\n",
       "      <th>mean</th>\n",
       "      <th>std</th>\n",
       "      <th>min</th>\n",
       "      <th>25%</th>\n",
       "      <th>50%</th>\n",
       "      <th>75%</th>\n",
       "      <th>max</th>\n",
       "    </tr>\n",
       "    <tr>\n",
       "      <th>price_stay_cluster</th>\n",
       "      <th></th>\n",
       "      <th></th>\n",
       "      <th></th>\n",
       "      <th></th>\n",
       "      <th></th>\n",
       "      <th></th>\n",
       "      <th></th>\n",
       "      <th></th>\n",
       "    </tr>\n",
       "  </thead>\n",
       "  <tbody>\n",
       "    <tr>\n",
       "      <th>0</th>\n",
       "      <td>37.0</td>\n",
       "      <td>1.072003e+06</td>\n",
       "      <td>211426.407258</td>\n",
       "      <td>900000.0</td>\n",
       "      <td>950000.0</td>\n",
       "      <td>1000000.0</td>\n",
       "      <td>1111111.0</td>\n",
       "      <td>2000000.0</td>\n",
       "    </tr>\n",
       "    <tr>\n",
       "      <th>1</th>\n",
       "      <td>244.0</td>\n",
       "      <td>1.078065e+05</td>\n",
       "      <td>59268.943563</td>\n",
       "      <td>20000.0</td>\n",
       "      <td>53750.0</td>\n",
       "      <td>100000.0</td>\n",
       "      <td>160000.0</td>\n",
       "      <td>210000.0</td>\n",
       "    </tr>\n",
       "    <tr>\n",
       "      <th>2</th>\n",
       "      <td>149.0</td>\n",
       "      <td>3.313350e+05</td>\n",
       "      <td>66723.791207</td>\n",
       "      <td>220000.0</td>\n",
       "      <td>270000.0</td>\n",
       "      <td>330000.0</td>\n",
       "      <td>390000.0</td>\n",
       "      <td>460000.0</td>\n",
       "    </tr>\n",
       "    <tr>\n",
       "      <th>3</th>\n",
       "      <td>61.0</td>\n",
       "      <td>5.938382e+05</td>\n",
       "      <td>106043.753541</td>\n",
       "      <td>470000.0</td>\n",
       "      <td>500000.0</td>\n",
       "      <td>560000.0</td>\n",
       "      <td>650000.0</td>\n",
       "      <td>800000.0</td>\n",
       "    </tr>\n",
       "  </tbody>\n",
       "</table>\n",
       "</div>"
      ],
      "text/plain": [
       "                    count          mean            std       min       25%  \\\n",
       "price_stay_cluster                                                           \n",
       "0                    37.0  1.072003e+06  211426.407258  900000.0  950000.0   \n",
       "1                   244.0  1.078065e+05   59268.943563   20000.0   53750.0   \n",
       "2                   149.0  3.313350e+05   66723.791207  220000.0  270000.0   \n",
       "3                    61.0  5.938382e+05  106043.753541  470000.0  500000.0   \n",
       "\n",
       "                          50%        75%        max  \n",
       "price_stay_cluster                                   \n",
       "0                   1000000.0  1111111.0  2000000.0  \n",
       "1                    100000.0   160000.0   210000.0  \n",
       "2                    330000.0   390000.0   460000.0  \n",
       "3                    560000.0   650000.0   800000.0  "
      ]
     },
     "execution_count": 83,
     "metadata": {},
     "output_type": "execute_result"
    }
   ],
   "source": [
    "df.groupby('price_stay_cluster')['price'].describe()"
   ]
  },
  {
   "cell_type": "code",
   "execution_count": 53,
   "metadata": {},
   "outputs": [
    {
     "data": {
      "text/plain": [
       "price_stay_cluster  stay_type\n",
       "0                   호텔            19\n",
       "                    기타            17\n",
       "                    리조트            1\n",
       "1                   호텔           140\n",
       "                    기타            77\n",
       "                    리조트           16\n",
       "                    모텔             4\n",
       "                    펜션             4\n",
       "                    풀빌라            3\n",
       "2                   호텔           100\n",
       "                    기타            40\n",
       "                    리조트            7\n",
       "                    펜션             2\n",
       "3                   호텔            43\n",
       "                    기타            14\n",
       "                    리조트            3\n",
       "                    풀빌라            1\n",
       "Name: count, dtype: int64"
      ]
     },
     "execution_count": 53,
     "metadata": {},
     "output_type": "execute_result"
    }
   ],
   "source": [
    "df.groupby('price_stay_cluster')['stay_type'].value_counts()"
   ]
  },
  {
   "cell_type": "code",
   "execution_count": 55,
   "metadata": {},
   "outputs": [
    {
     "data": {
      "text/html": [
       "<div>\n",
       "<style scoped>\n",
       "    .dataframe tbody tr th:only-of-type {\n",
       "        vertical-align: middle;\n",
       "    }\n",
       "\n",
       "    .dataframe tbody tr th {\n",
       "        vertical-align: top;\n",
       "    }\n",
       "\n",
       "    .dataframe thead th {\n",
       "        text-align: right;\n",
       "    }\n",
       "</style>\n",
       "<table border=\"1\" class=\"dataframe\">\n",
       "  <thead>\n",
       "    <tr style=\"text-align: right;\">\n",
       "      <th></th>\n",
       "      <th>count</th>\n",
       "      <th>mean</th>\n",
       "      <th>std</th>\n",
       "      <th>min</th>\n",
       "      <th>25%</th>\n",
       "      <th>50%</th>\n",
       "      <th>75%</th>\n",
       "      <th>max</th>\n",
       "    </tr>\n",
       "    <tr>\n",
       "      <th>price_stay_cluster</th>\n",
       "      <th></th>\n",
       "      <th></th>\n",
       "      <th></th>\n",
       "      <th></th>\n",
       "      <th></th>\n",
       "      <th></th>\n",
       "      <th></th>\n",
       "      <th></th>\n",
       "    </tr>\n",
       "  </thead>\n",
       "  <tbody>\n",
       "    <tr>\n",
       "      <th>0</th>\n",
       "      <td>37.0</td>\n",
       "      <td>1.072003e+06</td>\n",
       "      <td>211426.407258</td>\n",
       "      <td>900000.0</td>\n",
       "      <td>950000.0</td>\n",
       "      <td>1000000.0</td>\n",
       "      <td>1111111.0</td>\n",
       "      <td>2000000.0</td>\n",
       "    </tr>\n",
       "    <tr>\n",
       "      <th>1</th>\n",
       "      <td>244.0</td>\n",
       "      <td>1.078065e+05</td>\n",
       "      <td>59268.943563</td>\n",
       "      <td>20000.0</td>\n",
       "      <td>53750.0</td>\n",
       "      <td>100000.0</td>\n",
       "      <td>160000.0</td>\n",
       "      <td>210000.0</td>\n",
       "    </tr>\n",
       "    <tr>\n",
       "      <th>2</th>\n",
       "      <td>149.0</td>\n",
       "      <td>3.313350e+05</td>\n",
       "      <td>66723.791207</td>\n",
       "      <td>220000.0</td>\n",
       "      <td>270000.0</td>\n",
       "      <td>330000.0</td>\n",
       "      <td>390000.0</td>\n",
       "      <td>460000.0</td>\n",
       "    </tr>\n",
       "    <tr>\n",
       "      <th>3</th>\n",
       "      <td>61.0</td>\n",
       "      <td>5.938382e+05</td>\n",
       "      <td>106043.753541</td>\n",
       "      <td>470000.0</td>\n",
       "      <td>500000.0</td>\n",
       "      <td>560000.0</td>\n",
       "      <td>650000.0</td>\n",
       "      <td>800000.0</td>\n",
       "    </tr>\n",
       "  </tbody>\n",
       "</table>\n",
       "</div>"
      ],
      "text/plain": [
       "                    count          mean            std       min       25%  \\\n",
       "price_stay_cluster                                                           \n",
       "0                    37.0  1.072003e+06  211426.407258  900000.0  950000.0   \n",
       "1                   244.0  1.078065e+05   59268.943563   20000.0   53750.0   \n",
       "2                   149.0  3.313350e+05   66723.791207  220000.0  270000.0   \n",
       "3                    61.0  5.938382e+05  106043.753541  470000.0  500000.0   \n",
       "\n",
       "                          50%        75%        max  \n",
       "price_stay_cluster                                   \n",
       "0                   1000000.0  1111111.0  2000000.0  \n",
       "1                    100000.0   160000.0   210000.0  \n",
       "2                    330000.0   390000.0   460000.0  \n",
       "3                    560000.0   650000.0   800000.0  "
      ]
     },
     "execution_count": 55,
     "metadata": {},
     "output_type": "execute_result"
    }
   ],
   "source": [
    "df.groupby('price_stay_cluster')['price'].describe()"
   ]
  },
  {
   "cell_type": "markdown",
   "metadata": {},
   "source": [
    "## 주관적인 기준으로 분류  \n",
    "- 축제, 콘서트 등 이벤트 관련 숙소  \n",
    "- 외국 숙소  \n",
    "- 국내에서 가격대가 높은 숙소  \n",
    "- 국내에서 가격대가 낮은 숙소  \n",
    "- 호텔 외(모텔, 리조트, 펜션)  "
   ]
  },
  {
   "cell_type": "code",
   "execution_count": 67,
   "metadata": {},
   "outputs": [],
   "source": [
    "df['my_category']=df['stay_type']"
   ]
  },
  {
   "cell_type": "code",
   "execution_count": null,
   "metadata": {},
   "outputs": [],
   "source": [
    "df['stay_type'] = \"기타\"\n",
    "df.loc[df['title'].str.contains('호텔', na=False), 'stay_type'] = '호텔'\n",
    "df.loc[df['title'].str.contains('노보텔', na=False), 'stay_type'] = '호텔'\n",
    "df.loc[df['title'].str.contains('모텔', na=False), 'stay_type'] = '모텔'\n",
    "df.loc[df['title'].str.contains('리조트', na=False), 'stay_type'] = '리조트'\n",
    "df.loc[df['title'].str.contains('펜션', na=False), 'stay_type'] = '펜션'\n",
    "df.loc[df['title'].str.contains('풀빌라', na=False), 'stay_type'] = '풀빌라'"
   ]
  },
  {
   "cell_type": "code",
   "execution_count": 60,
   "metadata": {},
   "outputs": [],
   "source": [
    "from collections import Counter\n",
    "noun_counts = Counter(\n",
    "    noun for sublist in df['title_nouns'] for noun in sublist\n",
    ")"
   ]
  },
  {
   "cell_type": "code",
   "execution_count": 64,
   "metadata": {},
   "outputs": [],
   "source": [
    "foreign_list = '오키나와|하카타|싱가폴|하바나|시리아|나고야|베트남|재팬|캐나다|루체른|싱가포르|아메리카|카프리섬|하카타|코타키나발루|미야자키|하와이|도톤보리|칼튼|방콕|시부야|마드리드|뮌헨|치앙마이|대만|파타야|일본|후쿠오카|도쿄|이탈리아|오사카'"
   ]
  },
  {
   "cell_type": "code",
   "execution_count": 69,
   "metadata": {},
   "outputs": [],
   "source": [
    "df.loc[df['title'].str.contains(foreign_list),'my_category'] = '외국 숙소'"
   ]
  },
  {
   "cell_type": "code",
   "execution_count": 70,
   "metadata": {},
   "outputs": [],
   "source": [
    "df.loc[df['title'].str.contains('축제|콘서트|콘|페스트|페스티벌'),'my_category'] = '축제/콘서트 숙소'"
   ]
  },
  {
   "cell_type": "code",
   "execution_count": 73,
   "metadata": {},
   "outputs": [
    {
     "data": {
      "text/plain": [
       "270321.35802469135"
      ]
     },
     "execution_count": 73,
     "metadata": {},
     "output_type": "execute_result"
    }
   ],
   "source": [
    "df[df['my_category']=='호텔']['price'].mean()"
   ]
  },
  {
   "cell_type": "code",
   "execution_count": 74,
   "metadata": {},
   "outputs": [],
   "source": [
    "# '호텔'의 평균 가격 계산\n",
    "hotel_price_mean = df[df['my_category'] == '호텔']['price'].mean()\n",
    "\n",
    "# 가격대에 따라 값을 채우는 함수 정의\n",
    "def categorize_hotel_price(row):\n",
    "    if row['my_category'] == '호텔':\n",
    "        if row['price'] > hotel_price_mean:\n",
    "            return '가격대 높은 호텔'\n",
    "        else:\n",
    "            return '가격대 낮은 호텔'\n",
    "    return row['my_category']\n",
    "\n",
    "# apply를 사용해 가격대를 채우는 작업\n",
    "df['my_category'] = df.apply(categorize_hotel_price, axis=1)"
   ]
  },
  {
   "cell_type": "code",
   "execution_count": 75,
   "metadata": {},
   "outputs": [
    {
     "data": {
      "text/plain": [
       "my_category\n",
       "가격대 낮은 호텔    139\n",
       "기타           112\n",
       "가격대 높은 호텔    104\n",
       "외국 숙소         52\n",
       "축제/콘서트 숙소     45\n",
       "리조트           25\n",
       "펜션             6\n",
       "모텔             4\n",
       "풀빌라            4\n",
       "Name: count, dtype: int64"
      ]
     },
     "execution_count": 75,
     "metadata": {},
     "output_type": "execute_result"
    }
   ],
   "source": [
    "df['my_category'].value_counts()"
   ]
  },
  {
   "cell_type": "code",
   "execution_count": 84,
   "metadata": {},
   "outputs": [
    {
     "data": {
      "text/html": [
       "<div>\n",
       "<style scoped>\n",
       "    .dataframe tbody tr th:only-of-type {\n",
       "        vertical-align: middle;\n",
       "    }\n",
       "\n",
       "    .dataframe tbody tr th {\n",
       "        vertical-align: top;\n",
       "    }\n",
       "\n",
       "    .dataframe thead th {\n",
       "        text-align: right;\n",
       "    }\n",
       "</style>\n",
       "<table border=\"1\" class=\"dataframe\">\n",
       "  <thead>\n",
       "    <tr style=\"text-align: right;\">\n",
       "      <th></th>\n",
       "      <th>count</th>\n",
       "      <th>mean</th>\n",
       "      <th>std</th>\n",
       "      <th>min</th>\n",
       "      <th>25%</th>\n",
       "      <th>50%</th>\n",
       "      <th>75%</th>\n",
       "      <th>max</th>\n",
       "    </tr>\n",
       "    <tr>\n",
       "      <th>my_category</th>\n",
       "      <th></th>\n",
       "      <th></th>\n",
       "      <th></th>\n",
       "      <th></th>\n",
       "      <th></th>\n",
       "      <th></th>\n",
       "      <th></th>\n",
       "      <th></th>\n",
       "    </tr>\n",
       "  </thead>\n",
       "  <tbody>\n",
       "    <tr>\n",
       "      <th>가격대 낮은 호텔</th>\n",
       "      <td>139.0</td>\n",
       "      <td>114044.395683</td>\n",
       "      <td>69589.978984</td>\n",
       "      <td>20000.0</td>\n",
       "      <td>60000.0</td>\n",
       "      <td>100000.0</td>\n",
       "      <td>161500.0</td>\n",
       "      <td>260000.0</td>\n",
       "    </tr>\n",
       "    <tr>\n",
       "      <th>가격대 높은 호텔</th>\n",
       "      <td>104.0</td>\n",
       "      <td>479191.528846</td>\n",
       "      <td>210865.416660</td>\n",
       "      <td>278000.0</td>\n",
       "      <td>347990.0</td>\n",
       "      <td>410000.0</td>\n",
       "      <td>527500.0</td>\n",
       "      <td>1500000.0</td>\n",
       "    </tr>\n",
       "    <tr>\n",
       "      <th>기타</th>\n",
       "      <td>112.0</td>\n",
       "      <td>295104.892857</td>\n",
       "      <td>324062.999805</td>\n",
       "      <td>20500.0</td>\n",
       "      <td>111111.0</td>\n",
       "      <td>200000.0</td>\n",
       "      <td>325000.0</td>\n",
       "      <td>2000000.0</td>\n",
       "    </tr>\n",
       "    <tr>\n",
       "      <th>리조트</th>\n",
       "      <td>25.0</td>\n",
       "      <td>278532.440000</td>\n",
       "      <td>224619.724109</td>\n",
       "      <td>100000.0</td>\n",
       "      <td>160000.0</td>\n",
       "      <td>200000.0</td>\n",
       "      <td>290000.0</td>\n",
       "      <td>1111111.0</td>\n",
       "    </tr>\n",
       "    <tr>\n",
       "      <th>모텔</th>\n",
       "      <td>4.0</td>\n",
       "      <td>43000.000000</td>\n",
       "      <td>27006.172134</td>\n",
       "      <td>20000.0</td>\n",
       "      <td>20000.0</td>\n",
       "      <td>40000.0</td>\n",
       "      <td>63000.0</td>\n",
       "      <td>72000.0</td>\n",
       "    </tr>\n",
       "    <tr>\n",
       "      <th>외국 숙소</th>\n",
       "      <td>52.0</td>\n",
       "      <td>265859.192308</td>\n",
       "      <td>232972.379277</td>\n",
       "      <td>24000.0</td>\n",
       "      <td>122500.0</td>\n",
       "      <td>205000.0</td>\n",
       "      <td>359250.0</td>\n",
       "      <td>1234567.0</td>\n",
       "    </tr>\n",
       "    <tr>\n",
       "      <th>축제/콘서트 숙소</th>\n",
       "      <td>45.0</td>\n",
       "      <td>666980.666667</td>\n",
       "      <td>316332.328848</td>\n",
       "      <td>36000.0</td>\n",
       "      <td>390000.0</td>\n",
       "      <td>690000.0</td>\n",
       "      <td>940000.0</td>\n",
       "      <td>1300000.0</td>\n",
       "    </tr>\n",
       "    <tr>\n",
       "      <th>펜션</th>\n",
       "      <td>6.0</td>\n",
       "      <td>140000.000000</td>\n",
       "      <td>151756.383721</td>\n",
       "      <td>30000.0</td>\n",
       "      <td>38750.0</td>\n",
       "      <td>65000.0</td>\n",
       "      <td>203750.0</td>\n",
       "      <td>400000.0</td>\n",
       "    </tr>\n",
       "    <tr>\n",
       "      <th>풀빌라</th>\n",
       "      <td>4.0</td>\n",
       "      <td>252000.000000</td>\n",
       "      <td>232211.110845</td>\n",
       "      <td>129000.0</td>\n",
       "      <td>129000.0</td>\n",
       "      <td>139500.0</td>\n",
       "      <td>262500.0</td>\n",
       "      <td>600000.0</td>\n",
       "    </tr>\n",
       "  </tbody>\n",
       "</table>\n",
       "</div>"
      ],
      "text/plain": [
       "             count           mean            std       min       25%  \\\n",
       "my_category                                                            \n",
       "가격대 낮은 호텔    139.0  114044.395683   69589.978984   20000.0   60000.0   \n",
       "가격대 높은 호텔    104.0  479191.528846  210865.416660  278000.0  347990.0   \n",
       "기타           112.0  295104.892857  324062.999805   20500.0  111111.0   \n",
       "리조트           25.0  278532.440000  224619.724109  100000.0  160000.0   \n",
       "모텔             4.0   43000.000000   27006.172134   20000.0   20000.0   \n",
       "외국 숙소         52.0  265859.192308  232972.379277   24000.0  122500.0   \n",
       "축제/콘서트 숙소     45.0  666980.666667  316332.328848   36000.0  390000.0   \n",
       "펜션             6.0  140000.000000  151756.383721   30000.0   38750.0   \n",
       "풀빌라            4.0  252000.000000  232211.110845  129000.0  129000.0   \n",
       "\n",
       "                  50%       75%        max  \n",
       "my_category                                 \n",
       "가격대 낮은 호텔    100000.0  161500.0   260000.0  \n",
       "가격대 높은 호텔    410000.0  527500.0  1500000.0  \n",
       "기타           200000.0  325000.0  2000000.0  \n",
       "리조트          200000.0  290000.0  1111111.0  \n",
       "모텔            40000.0   63000.0    72000.0  \n",
       "외국 숙소        205000.0  359250.0  1234567.0  \n",
       "축제/콘서트 숙소    690000.0  940000.0  1300000.0  \n",
       "펜션            65000.0  203750.0   400000.0  \n",
       "풀빌라          139500.0  262500.0   600000.0  "
      ]
     },
     "execution_count": 84,
     "metadata": {},
     "output_type": "execute_result"
    }
   ],
   "source": [
    "df.groupby('my_category')['price'].describe()"
   ]
  },
  {
   "cell_type": "code",
   "execution_count": 82,
   "metadata": {},
   "outputs": [
    {
     "data": {
      "text/html": [
       "<div>\n",
       "<style scoped>\n",
       "    .dataframe tbody tr th:only-of-type {\n",
       "        vertical-align: middle;\n",
       "    }\n",
       "\n",
       "    .dataframe tbody tr th {\n",
       "        vertical-align: top;\n",
       "    }\n",
       "\n",
       "    .dataframe thead th {\n",
       "        text-align: right;\n",
       "    }\n",
       "</style>\n",
       "<table border=\"1\" class=\"dataframe\">\n",
       "  <thead>\n",
       "    <tr style=\"text-align: right;\">\n",
       "      <th></th>\n",
       "      <th>count</th>\n",
       "      <th>mean</th>\n",
       "      <th>std</th>\n",
       "      <th>min</th>\n",
       "      <th>25%</th>\n",
       "      <th>50%</th>\n",
       "      <th>75%</th>\n",
       "      <th>max</th>\n",
       "    </tr>\n",
       "    <tr>\n",
       "      <th>stay_type</th>\n",
       "      <th></th>\n",
       "      <th></th>\n",
       "      <th></th>\n",
       "      <th></th>\n",
       "      <th></th>\n",
       "      <th></th>\n",
       "      <th></th>\n",
       "      <th></th>\n",
       "    </tr>\n",
       "  </thead>\n",
       "  <tbody>\n",
       "    <tr>\n",
       "      <th>기타</th>\n",
       "      <td>148.0</td>\n",
       "      <td>329180.729730</td>\n",
       "      <td>333715.574287</td>\n",
       "      <td>20500.0</td>\n",
       "      <td>111111.0</td>\n",
       "      <td>200000.0</td>\n",
       "      <td>400000.0</td>\n",
       "      <td>2000000.0</td>\n",
       "    </tr>\n",
       "    <tr>\n",
       "      <th>리조트</th>\n",
       "      <td>27.0</td>\n",
       "      <td>281233.740741</td>\n",
       "      <td>219247.773183</td>\n",
       "      <td>100000.0</td>\n",
       "      <td>165000.0</td>\n",
       "      <td>200000.0</td>\n",
       "      <td>315000.0</td>\n",
       "      <td>1111111.0</td>\n",
       "    </tr>\n",
       "    <tr>\n",
       "      <th>모텔</th>\n",
       "      <td>4.0</td>\n",
       "      <td>43000.000000</td>\n",
       "      <td>27006.172134</td>\n",
       "      <td>20000.0</td>\n",
       "      <td>20000.0</td>\n",
       "      <td>40000.0</td>\n",
       "      <td>63000.0</td>\n",
       "      <td>72000.0</td>\n",
       "    </tr>\n",
       "    <tr>\n",
       "      <th>펜션</th>\n",
       "      <td>6.0</td>\n",
       "      <td>140000.000000</td>\n",
       "      <td>151756.383721</td>\n",
       "      <td>30000.0</td>\n",
       "      <td>38750.0</td>\n",
       "      <td>65000.0</td>\n",
       "      <td>203750.0</td>\n",
       "      <td>400000.0</td>\n",
       "    </tr>\n",
       "    <tr>\n",
       "      <th>풀빌라</th>\n",
       "      <td>4.0</td>\n",
       "      <td>252000.000000</td>\n",
       "      <td>232211.110845</td>\n",
       "      <td>129000.0</td>\n",
       "      <td>129000.0</td>\n",
       "      <td>139500.0</td>\n",
       "      <td>262500.0</td>\n",
       "      <td>600000.0</td>\n",
       "    </tr>\n",
       "    <tr>\n",
       "      <th>호텔</th>\n",
       "      <td>302.0</td>\n",
       "      <td>308708.271523</td>\n",
       "      <td>269051.153618</td>\n",
       "      <td>20000.0</td>\n",
       "      <td>100000.0</td>\n",
       "      <td>258000.0</td>\n",
       "      <td>409750.0</td>\n",
       "      <td>1500000.0</td>\n",
       "    </tr>\n",
       "  </tbody>\n",
       "</table>\n",
       "</div>"
      ],
      "text/plain": [
       "           count           mean            std       min       25%       50%  \\\n",
       "stay_type                                                                      \n",
       "기타         148.0  329180.729730  333715.574287   20500.0  111111.0  200000.0   \n",
       "리조트         27.0  281233.740741  219247.773183  100000.0  165000.0  200000.0   \n",
       "모텔           4.0   43000.000000   27006.172134   20000.0   20000.0   40000.0   \n",
       "펜션           6.0  140000.000000  151756.383721   30000.0   38750.0   65000.0   \n",
       "풀빌라          4.0  252000.000000  232211.110845  129000.0  129000.0  139500.0   \n",
       "호텔         302.0  308708.271523  269051.153618   20000.0  100000.0  258000.0   \n",
       "\n",
       "                75%        max  \n",
       "stay_type                       \n",
       "기타         400000.0  2000000.0  \n",
       "리조트        315000.0  1111111.0  \n",
       "모텔          63000.0    72000.0  \n",
       "펜션         203750.0   400000.0  \n",
       "풀빌라        262500.0   600000.0  \n",
       "호텔         409750.0  1500000.0  "
      ]
     },
     "execution_count": 82,
     "metadata": {},
     "output_type": "execute_result"
    }
   ],
   "source": [
    "df.groupby('stay_type')['price'].describe()"
   ]
  },
  {
   "cell_type": "code",
   "execution_count": null,
   "metadata": {},
   "outputs": [],
   "source": []
  }
 ],
 "metadata": {
  "kernelspec": {
   "display_name": "base",
   "language": "python",
   "name": "python3"
  },
  "language_info": {
   "codemirror_mode": {
    "name": "ipython",
    "version": 3
   },
   "file_extension": ".py",
   "mimetype": "text/x-python",
   "name": "python",
   "nbconvert_exporter": "python",
   "pygments_lexer": "ipython3",
   "version": "3.10.13"
  }
 },
 "nbformat": 4,
 "nbformat_minor": 2
}
