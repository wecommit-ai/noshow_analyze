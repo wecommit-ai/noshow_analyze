{
 "cells": [
  {
   "cell_type": "code",
   "execution_count": 2,
   "metadata": {},
   "outputs": [],
   "source": [
    "# 라이브러리 불러오기기\n",
    "import pandas as pd\n",
    "import matplotlib.pyplot as plt\n",
    "import openai\n",
    "import json\n",
    "import os\n",
    "from dotenv import load_dotenv"
   ]
  },
  {
   "cell_type": "code",
   "execution_count": 3,
   "metadata": {},
   "outputs": [],
   "source": [
    "current_directory = os.getcwd()\n",
    "data_directory = os.path.join(current_directory, '..', 'data')\n",
    "data_file_path = os.path.join(data_directory, 'description_complete2.csv')\n",
    "df = pd.read_csv(data_file_path,index_col=0)"
   ]
  },
  {
   "cell_type": "code",
   "execution_count": 5,
   "metadata": {},
   "outputs": [],
   "source": [
    "df['foreignn'] = df['foreignn'].apply(lambda x: '국내' if x in ['Domestic', 'domestic'] else x)\n",
    "df['stay_type'] = df['stay_type'].apply(lambda x: '호텔' if x in ['Hotel', '해외 호텔','hotel','해외'] else x)\n",
    "df.dropna(subset=['shipping_fee'],inplace=True)\n",
    "df.reset_index(drop=True, inplace=True)\n",
    "df['foreignn'] = df['foreignn'].fillna(\"국내\")\n",
    "df['stay_type'] = df['stay_type'].fillna(\"호텔\")"
   ]
  },
  {
   "cell_type": "code",
   "execution_count": 7,
   "metadata": {},
   "outputs": [
    {
     "name": "stdout",
     "output_type": "stream",
     "text": [
      "<class 'pandas.core.frame.DataFrame'>\n",
      "RangeIndex: 1912 entries, 0 to 1911\n",
      "Data columns (total 30 columns):\n",
      " #   Column              Non-Null Count  Dtype  \n",
      "---  ------              --------------  -----  \n",
      " 0   platform            1912 non-null   object \n",
      " 1   original_link       1912 non-null   object \n",
      " 2   post_time           1912 non-null   object \n",
      " 3   title               1912 non-null   object \n",
      " 4   view_count          1912 non-null   int64  \n",
      " 5   like_count          1912 non-null   int64  \n",
      " 6   price               1912 non-null   int64  \n",
      " 7   images              1912 non-null   object \n",
      " 8   description         1912 non-null   object \n",
      " 9   category            1912 non-null   object \n",
      " 10  status              1912 non-null   object \n",
      " 11  seller_location     354 non-null    object \n",
      " 12  city_goo            136 non-null    object \n",
      " 13  citydong            341 non-null    object \n",
      " 14  description_1       1912 non-null   object \n",
      " 15  expiration_stdate   685 non-null    object \n",
      " 16  expiration_endate   726 non-null    object \n",
      " 17  room_type           1228 non-null   object \n",
      " 18  head_count          575 non-null    float64\n",
      " 19  shipping_fee        1912 non-null   float64\n",
      " 20  transaction_method  1128 non-null   object \n",
      " 21  market_price        539 non-null    float64\n",
      " 22  options             886 non-null    object \n",
      " 23  parking             1276 non-null   object \n",
      " 24  check_in_time       262 non-null    object \n",
      " 25  check_out_time      262 non-null    object \n",
      " 26  stay_type           1912 non-null   object \n",
      " 27  foreignn            1912 non-null   object \n",
      " 28  event               85 non-null     object \n",
      " 29  advertise           1912 non-null   object \n",
      "dtypes: float64(3), int64(3), object(24)\n",
      "memory usage: 448.2+ KB\n"
     ]
    }
   ],
   "source": [
    "df.info()"
   ]
  },
  {
   "cell_type": "code",
   "execution_count": null,
   "metadata": {},
   "outputs": [],
   "source": []
  }
 ],
 "metadata": {
  "kernelspec": {
   "display_name": "base",
   "language": "python",
   "name": "python3"
  },
  "language_info": {
   "codemirror_mode": {
    "name": "ipython",
    "version": 3
   },
   "file_extension": ".py",
   "mimetype": "text/x-python",
   "name": "python",
   "nbconvert_exporter": "python",
   "pygments_lexer": "ipython3",
   "version": "3.10.13"
  }
 },
 "nbformat": 4,
 "nbformat_minor": 2
}
