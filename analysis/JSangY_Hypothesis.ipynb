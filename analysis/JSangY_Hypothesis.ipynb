{
 "cells": [
  {
   "cell_type": "code",
   "execution_count": 187,
   "metadata": {},
   "outputs": [],
   "source": [
    "import pandas as pd\n",
    "import os\n",
    "import matplotlib.pyplot as plt\n",
    "import seaborn as sns\n",
    "import numpy as np\n",
    "import missingno as msno"
   ]
  },
  {
   "cell_type": "code",
   "execution_count": null,
   "metadata": {},
   "outputs": [],
   "source": [
    "plt.rcParams['font.family'] ='Malgun Gothic'\n",
    "plt.rcParams['axes.unicode_minus'] =False"
   ]
  },
  {
   "cell_type": "code",
   "execution_count": null,
   "metadata": {},
   "outputs": [],
   "source": [
    "current_directory = os.getcwd()\n",
    "data_directory = os.path.join(current_directory, '..', 'data')\n",
    "data_file_path = os.path.join(data_directory, 'description_complete2.csv')\n",
    "df = pd.read_csv(data_file_path,index_col=0)"
   ]
  },
  {
   "cell_type": "code",
   "execution_count": null,
   "metadata": {},
   "outputs": [],
   "source": [
    "bunjang_df = df[df['platform']=='번개장터']"
   ]
  },
  {
   "cell_type": "code",
   "execution_count": null,
   "metadata": {},
   "outputs": [],
   "source": [
    "bunjang_df['options_count'] = bunjang_df['options_split'].apply(lambda x: len(x) if isinstance(x, list) else 0)"
   ]
  },
  {
   "cell_type": "code",
   "execution_count": null,
   "metadata": {},
   "outputs": [],
   "source": [
    "columns_to_check = ['expiration_stdate', 'expiration_endate', 'room_type', 'head_count',\n",
    "                    'shipping_fee', 'transaction_method', 'market_price', 'options',\n",
    "                    'parking', 'check_in_time', 'check_out_time']\n",
    "\n",
    "bunjang_df['field_count'] = bunjang_df[columns_to_check].notnull().astype(int).sum(axis=1)"
   ]
  },
  {
   "cell_type": "code",
   "execution_count": null,
   "metadata": {},
   "outputs": [],
   "source": [
    "plt.figure(figsize=(10, 6))\n",
    "sns.boxplot(x='status', y='field_count', data=bunjang_df)\n",
    "plt.title('field_count by Status (Box Plot)')\n",
    "plt.xlabel('Status')\n",
    "plt.ylabel('field_count')\n",
    "plt.show()"
   ]
  },
  {
   "cell_type": "code",
   "execution_count": null,
   "metadata": {},
   "outputs": [],
   "source": [
    "plt.figure(figsize=(10, 6))\n",
    "sns.violinplot(x='status', y='field_count', data=bunjang_df)\n",
    "plt.title('field_count by Status (Violin Plot)')\n",
    "plt.xlabel('Status')\n",
    "plt.ylabel('field_count')\n",
    "plt.show()"
   ]
  },
  {
   "cell_type": "code",
   "execution_count": null,
   "metadata": {},
   "outputs": [],
   "source": [
    "plt.figure(figsize=(10, 6))\n",
    "bunjang_df.groupby('status')['field_count'].mean().plot(kind='bar', color='skyblue')\n",
    "plt.title('Average field_count by Status')\n",
    "plt.xlabel('Status')\n",
    "plt.ylabel('Average field_count')\n",
    "plt.xticks(rotation=0)\n",
    "plt.show()"
   ]
  },
  {
   "cell_type": "code",
   "execution_count": null,
   "metadata": {},
   "outputs": [],
   "source": [
    "plt.figure(figsize=(10, 6))\n",
    "sns.boxplot(x='status', y='options_count', data=bunjang_df)\n",
    "plt.title('Option Count by Status (Box Plot)')\n",
    "plt.xlabel('Status')\n",
    "plt.ylabel('Options Count')\n",
    "plt.show()"
   ]
  },
  {
   "cell_type": "code",
   "execution_count": null,
   "metadata": {},
   "outputs": [],
   "source": [
    "plt.figure(figsize=(10, 6))\n",
    "sns.violinplot(x='status', y='options_count', data=bunjang_df)\n",
    "plt.title('Option Count by Status (Violin Plot)')\n",
    "plt.xlabel('Status')\n",
    "plt.ylabel('Options Count')\n",
    "plt.show()"
   ]
  },
  {
   "cell_type": "code",
   "execution_count": null,
   "metadata": {},
   "outputs": [],
   "source": [
    "plt.figure(figsize=(10, 6))\n",
    "bunjang_df.groupby('status')['options_count'].mean().plot(kind='bar', color='skyblue')\n",
    "plt.title('Average Option Count by Status')\n",
    "plt.xlabel('Status')\n",
    "plt.ylabel('Average Options Count')\n",
    "plt.xticks(rotation=0)\n",
    "plt.show()"
   ]
  },
  {
   "cell_type": "code",
   "execution_count": null,
   "metadata": {},
   "outputs": [],
   "source": [
    "bunjang_df.groupby('sub_category')['status'].value_counts()"
   ]
  },
  {
   "cell_type": "code",
   "execution_count": null,
   "metadata": {},
   "outputs": [],
   "source": [
    "status_counts = bunjang_df.groupby('sub_category')['status'].value_counts().unstack()\n",
    "\n",
    "status_counts.plot(kind='bar', stacked=True, figsize=(12, 8), colormap='tab20c')\n",
    "plt.title('Sub Category by Status (Stacked Bar Chart)')\n",
    "plt.xlabel('Sub Category')\n",
    "plt.ylabel('Count')\n",
    "plt.xticks(rotation=45)\n",
    "plt.legend(title='Status')\n",
    "plt.show()\n"
   ]
  },
  {
   "cell_type": "code",
   "execution_count": null,
   "metadata": {},
   "outputs": [],
   "source": []
  },
  {
   "cell_type": "code",
   "execution_count": null,
   "metadata": {},
   "outputs": [],
   "source": []
  },
  {
   "cell_type": "code",
   "execution_count": null,
   "metadata": {},
   "outputs": [],
   "source": []
  },
  {
   "cell_type": "code",
   "execution_count": null,
   "metadata": {},
   "outputs": [],
   "source": []
  }
 ],
 "metadata": {
  "language_info": {
   "name": "python"
  }
 },
 "nbformat": 4,
 "nbformat_minor": 2
}
